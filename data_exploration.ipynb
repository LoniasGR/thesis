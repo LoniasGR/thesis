{
 "cells": [
  {
   "cell_type": "code",
   "execution_count": null,
   "metadata": {},
   "outputs": [],
   "source": [
    "import json\n",
    "from datetime import datetime"
   ]
  },
  {
   "cell_type": "code",
   "execution_count": null,
   "metadata": {},
   "outputs": [],
   "source": [
    "with open(\"conversations-all.json\", \"r\") as f:\n",
    "    lines = f.readlines()\n",
    "\n",
    "print(len(lines))\n",
    "data = json.loads(lines[3])\n",
    "\n",
    "for i, e in enumerate(data[\"events\"]):\n",
    "    print(e)\n"
   ]
  },
  {
   "cell_type": "code",
   "execution_count": null,
   "metadata": {},
   "outputs": [],
   "source": [
    "json_object = json.loads(lines[3])\n",
    "\n",
    "json_formatted_str = json.dumps(json_object, indent=2)\n",
    "\n",
    "print(json_formatted_str)"
   ]
  },
  {
   "cell_type": "code",
   "execution_count": null,
   "metadata": {},
   "outputs": [],
   "source": [
    "empty = 0\n",
    "average_user = 0\n",
    "average_bot = 0\n",
    "suggestions_count = 0\n",
    "for line in lines: \n",
    "    data = json.loads(line)\n",
    "    user = [u for i, u in enumerate(data[\"events\"]) if u[\"event\"] == \"user\"]\n",
    "    bot = [u for i, u in enumerate(data[\"events\"]) if u[\"event\"] == \"bot\"]\n",
    "    suggestions = [u for i, u in enumerate(data[\"events\"]) if u[\"event\"] == \"action\" and u[\"name\"] == \"action_smart_suggestion\"]\n",
    "    if len(user) == 1:\n",
    "        empty += 1\n",
    "    average_user += len(user) - 1 \n",
    "    average_bot += len(bot) - 2\n",
    "    suggestions_count += len(suggestions)\n",
    "    \n",
    "print(f\"Empty discussions: {empty}\")\n",
    "print(f\"Average user utterances: {average_user/len(lines)}\")\n",
    "print(f\"Average user utterances: {average_bot/len(lines)}\")\n",
    "print(f\"Total suggestions: {suggestions_count}\")\n",
    "print(f\"Average suggestions per dialogue: {suggestions_count/len(lines)}\")\n"
   ]
  }
 ],
 "metadata": {
  "language_info": {
   "name": "python"
  },
  "orig_nbformat": 4
 },
 "nbformat": 4,
 "nbformat_minor": 2
}
