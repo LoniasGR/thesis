{
 "cells": [
  {
   "cell_type": "code",
   "execution_count": 1,
   "id": "b038533d-7a29-4216-9631-19a1b6d66e39",
   "metadata": {},
   "outputs": [],
   "source": [
    "import vowpalwabbit"
   ]
  },
  {
   "cell_type": "code",
   "execution_count": 2,
   "id": "5b106ad0",
   "metadata": {},
   "outputs": [],
   "source": [
    "vw_train = vowpalwabbit.Workspace(enable_logging=True, cb_explore_adf=True, cb_type=\"ips\", d=\"train.dat\")\n",
    "vw_train.finish()\n",
    "vw_train.save(\"candidate_model.vw\")"
   ]
  },
  {
   "cell_type": "code",
   "execution_count": 3,
   "id": "db6d4d5a",
   "metadata": {},
   "outputs": [
    {
     "data": {
      "text/plain": [
       "['using no cache',\n",
       " 'Reading datafile = train.dat',\n",
       " 'num sources = 1',\n",
       " 'Num weight bits = 18',\n",
       " 'learning rate = 0.5',\n",
       " 'initial_t = 0',\n",
       " 'power_t = 0.5',\n",
       " 'cb_type = ips',\n",
       " 'Enabled reductions: gd, scorer-identity, csoaa_ldf-rank, cb_adf, cb_explore_adf_greedy, shared_feature_merger',\n",
       " 'Input label = cb',\n",
       " 'Output pred = action_probs',\n",
       " 'average  since         example        example        current        current  current',\n",
       " 'loss     last          counter         weight          label        predict features',\n",
       " '1.090909 1.090909            1            1.0      0:1:0.083         0:0.09       22',\n",
       " '0.572727 0.054545            2            2.0      0:1:0.083         1:0.95       33',\n",
       " '0.300000 0.027273            4            4.0      0:1:0.083         1:0.95       22',\n",
       " '0.156818 0.013636            8            8.0      0:0:0.083         1:0.95       40',\n",
       " '0.102756 0.048693           16           16.0      0:1:0.083         1:0.96       42',\n",
       " '0.066297 0.029839           32           32.0      0:1:0.083         1:0.95       30',\n",
       " '0.227640 0.388982           64           64.0      0:0:0.083         2:0.96       52',\n",
       " '0.322564 0.417488          128          128.0      0:0:0.083         3:0.95       33',\n",
       " '0.175006 0.027448          256          256.0      0:1:0.083         3:0.95       33',\n",
       " '0.124485 0.073964          512          512.0      0:0:0.083         4:0.95       22',\n",
       " '',\n",
       " 'finished run',\n",
       " 'number of examples = 745',\n",
       " 'weighted example sum = 745.000000',\n",
       " 'weighted label sum = 0.000000',\n",
       " 'average loss = 0.463927',\n",
       " 'total feature number = 25307',\n",
       " '']"
      ]
     },
     "execution_count": 3,
     "metadata": {},
     "output_type": "execute_result"
    }
   ],
   "source": [
    "vw_train.get_log()"
   ]
  },
  {
   "cell_type": "code",
   "execution_count": 4,
   "id": "477ec614",
   "metadata": {},
   "outputs": [
    {
     "data": {
      "text/plain": [
       "['using no cache',\n",
       " 'Reading datafile = test.dat',\n",
       " 'num sources = 1',\n",
       " 'Num weight bits = 18',\n",
       " 'learning rate = 0.5',\n",
       " 'initial_t = 745',\n",
       " 'power_t = 0.5',\n",
       " 'cb_type = ips',\n",
       " 'Enabled reductions: gd, scorer-identity, csoaa_ldf-rank, cb_adf, cb_explore_adf_greedy, shared_feature_merger',\n",
       " 'Input label = cb',\n",
       " 'Output pred = action_probs',\n",
       " 'average  since         example        example        current        current  current',\n",
       " 'loss     last          counter         weight          label        predict features',\n",
       " '0.054545 0.054545            1            1.0      0:1:0.083         3:0.95       44',\n",
       " '0.054545 0.054545            2            2.0      0:1:0.083         3:0.95       55',\n",
       " '0.042273 0.030000            4            4.0      0:1:0.083         3:0.95       20',\n",
       " '0.035455 0.028636            8            8.0      0:0:0.083         7:0.96       32',\n",
       " '0.044959 0.054464           16           16.0      0:1:0.083         5:0.96       54',\n",
       " '0.053218 0.061477           32           32.0      0:1:0.083         9:0.95       40',\n",
       " '0.224921 0.396624           64           64.0      0:0:0.083         8:0.96       36',\n",
       " '0.126478 0.028035          128          128.0      0:0:0.083         3:0.95       20',\n",
       " '0.165960 0.205441          256          256.0      0:1:0.083         2:0.96       35',\n",
       " '',\n",
       " 'finished run',\n",
       " 'number of examples = 298',\n",
       " 'weighted example sum = 298.000000',\n",
       " 'weighted label sum = 0.000000',\n",
       " 'average loss = 0.145831',\n",
       " 'total feature number = 9503',\n",
       " '']"
      ]
     },
     "execution_count": 4,
     "metadata": {},
     "output_type": "execute_result"
    }
   ],
   "source": [
    "vw_test = vowpalwabbit.Workspace(enable_logging=True, i=\"candidate_model.vw\", cb_type=\"ips\", d=\"test.dat\")\n",
    "vw_test.finish()\n",
    "vw_test.get_log()"
   ]
  },
  {
   "cell_type": "code",
   "execution_count": 5,
   "id": "0b0c9ec5",
   "metadata": {},
   "outputs": [],
   "source": [
    "vw_play = vowpalwabbit.Workspace(enable_logging=True, i=\"candidate_model.vw\", cb_type=\"ips\")"
   ]
  },
  {
   "cell_type": "code",
   "execution_count": 6,
   "id": "f0903a20",
   "metadata": {},
   "outputs": [
    {
     "data": {
      "text/plain": [
       "[1.0]"
      ]
     },
     "execution_count": 6,
     "metadata": {},
     "output_type": "execute_result"
    }
   ],
   "source": [
    "vw_play.predict('| pharma_search covid_stats')"
   ]
  },
  {
   "cell_type": "markdown",
   "id": "055795ec",
   "metadata": {},
   "source": [
    "Look at this: https://stackoverflow.com/questions/66996884/confusion-with-vowpal-wabbit-contextual-bandit-training-data-formatting"
   ]
  }
 ],
 "metadata": {
  "kernelspec": {
   "display_name": "Python 3.10.4 ('smart_suggest')",
   "language": "python",
   "name": "python3"
  },
  "language_info": {
   "codemirror_mode": {
    "name": "ipython",
    "version": 3
   },
   "file_extension": ".py",
   "mimetype": "text/x-python",
   "name": "python",
   "nbconvert_exporter": "python",
   "pygments_lexer": "ipython3",
   "version": "3.10.4"
  },
  "vscode": {
   "interpreter": {
    "hash": "eb4a0ff1bf1674ebf25d9c3bb761156aaac09723437c8f08dce11d28e41a6657"
   }
  }
 },
 "nbformat": 4,
 "nbformat_minor": 5
}
