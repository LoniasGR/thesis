{
 "cells": [
  {
   "cell_type": "code",
   "execution_count": 1,
   "id": "b038533d-7a29-4216-9631-19a1b6d66e39",
   "metadata": {},
   "outputs": [],
   "source": [
    "import vowpalwabbit"
   ]
  },
  {
   "cell_type": "code",
   "execution_count": 2,
   "id": "5b106ad0",
   "metadata": {},
   "outputs": [],
   "source": [
    "vw_train = vowpalwabbit.Workspace(enable_logging=True, cb=12, cb_type=\"ips\", d=\"train.dat\")\n",
    "vw_train.finish()\n",
    "vw_train.save(\"candidate_model.vw\")"
   ]
  },
  {
   "cell_type": "code",
   "execution_count": 3,
   "id": "db6d4d5a",
   "metadata": {},
   "outputs": [
    {
     "data": {
      "text/plain": [
       "['using no cache\\n',\n",
       " 'Reading datafile = train.dat\\n',\n",
       " 'num sources = 1\\n',\n",
       " 'Num weight bits = 18\\n',\n",
       " 'learning rate = 0.5\\n',\n",
       " 'initial_t = 0\\n',\n",
       " 'power_t = 0.5\\n',\n",
       " 'Enabled reductions: gd, scorer-identity, csoaa_ldf-rank, cb_adf, shared_feature_merger, cb_to_cbadf\\n',\n",
       " 'Input label = cb\\n',\n",
       " 'Output pred = multiclass\\n',\n",
       " 'average  since         example        example  current  current  current\\n',\n",
       " 'loss     last          counter         weight    label  predict features\\n',\n",
       " '0.000000 0.000000            1            1.0 4:1:0.083        0:0...       24\\n',\n",
       " '0.000000 0.000000            2            2.0 4:1:0.083        0:0...       36\\n',\n",
       " '0.000000 0.000000            4            4.0 5:1:0.083        0:0...       24\\n',\n",
       " '0.000000 0.000000            8            8.0 11:0:0.083        0:0...       36\\n',\n",
       " '0.000000 0.000000           16           16.0 4:1:0.083        7:-0.0472694...       60\\n',\n",
       " '0.000000 0.000000           32           32.0 4:1:0.083        7:-0.123933...       36\\n',\n",
       " '0.000000 0.000000           64           64.0 4:0:0.083        8:-1.01139...       96\\n',\n",
       " '0.093750 0.187500          128          128.0 4:0:0.083        3:-0.436252...       36\\n',\n",
       " '0.046875 0.000000          256          256.0 4:1:0.083        5:-0.871051...       36\\n',\n",
       " '0.046875 0.046875          512          512.0 8:0:0.083        0:-0.0763989...       12\\n',\n",
       " '\\n',\n",
       " 'finished run\\n',\n",
       " 'number of examples = 730\\n',\n",
       " 'weighted example sum = 730.000000\\n',\n",
       " 'weighted label sum = 0.000000\\n',\n",
       " 'average loss = 0.082192\\n',\n",
       " 'total feature number = 32556\\n']"
      ]
     },
     "execution_count": 3,
     "metadata": {},
     "output_type": "execute_result"
    }
   ],
   "source": [
    "vw_train.get_log()"
   ]
  },
  {
   "cell_type": "code",
   "execution_count": 4,
   "id": "477ec614",
   "metadata": {},
   "outputs": [
    {
     "data": {
      "text/plain": [
       "['using no cache\\n',\n",
       " 'Reading datafile = test.dat\\n',\n",
       " 'num sources = 1\\n',\n",
       " 'Num weight bits = 18\\n',\n",
       " 'learning rate = 0.5\\n',\n",
       " 'initial_t = 730\\n',\n",
       " 'power_t = 0.5\\n',\n",
       " 'Enabled reductions: gd, scorer-identity, csoaa_ldf-rank, cb_adf, shared_feature_merger, cb_to_cbadf\\n',\n",
       " 'Input label = cb\\n',\n",
       " 'Output pred = multiclass\\n',\n",
       " 'average  since         example        example  current  current  current\\n',\n",
       " 'loss     last          counter         weight    label  predict features\\n',\n",
       " '0.000000 0.000000            1            1.0 4:1:0.083        7:-0.30617...       24\\n',\n",
       " '0.000000 0.000000            2            2.0 2:0:0.083        7:-0.30617...       24\\n',\n",
       " '0.000000 0.000000            4            4.0 4:1:0.083        6:0.0423076...       12\\n',\n",
       " '0.000000 0.000000            8            8.0 10:1:0.083        6:-0.218669...       24\\n',\n",
       " '0.000000 0.000000           16           16.0 10:1:0.083        1:-0.750451...       48\\n',\n",
       " '0.000000 0.000000           32           32.0 4:1:0.083        5:-0.74521...       72\\n',\n",
       " '0.000000 0.000000           64           64.0 9:0:0.083        7:-0.234532...       24\\n',\n",
       " '0.187500 0.375000          128          128.0 4:1:0.083        7:-0.469909...       36\\n',\n",
       " '0.140625 0.093750          256          256.0 4:0:0.083        0:-0.191881...       36\\n',\n",
       " '\\n',\n",
       " 'finished run\\n',\n",
       " 'number of examples = 313\\n',\n",
       " 'weighted example sum = 313.000000\\n',\n",
       " 'weighted label sum = 0.000000\\n',\n",
       " 'average loss = 0.115016\\n',\n",
       " 'total feature number = 10032\\n']"
      ]
     },
     "execution_count": 4,
     "metadata": {},
     "output_type": "execute_result"
    }
   ],
   "source": [
    "vw_test = vowpalwabbit.Workspace(enable_logging=True, i=\"candidate_model.vw\", cb_type=\"ips\", d=\"test.dat\")\n",
    "vw_test.finish()\n",
    "vw_test.get_log()"
   ]
  },
  {
   "cell_type": "code",
   "execution_count": 5,
   "id": "0b0c9ec5",
   "metadata": {},
   "outputs": [],
   "source": [
    "vw_play = vowpalwabbit.Workspace(enable_logging=True, i=\"candidate_model.vw\", cb_type=\"ips\")"
   ]
  },
  {
   "cell_type": "code",
   "execution_count": 6,
   "id": "f0903a20",
   "metadata": {},
   "outputs": [
    {
     "data": {
      "text/plain": [
       "8"
      ]
     },
     "execution_count": 6,
     "metadata": {},
     "output_type": "execute_result"
    }
   ],
   "source": [
    "vw_play.predict('| pharma_search covid_stats')"
   ]
  },
  {
   "cell_type": "code",
   "execution_count": null,
   "id": "cddb69bf",
   "metadata": {},
   "outputs": [],
   "source": []
  }
 ],
 "metadata": {
  "kernelspec": {
   "display_name": "Python 3 (ipykernel)",
   "language": "python",
   "name": "python3"
  },
  "language_info": {
   "codemirror_mode": {
    "name": "ipython",
    "version": 3
   },
   "file_extension": ".py",
   "mimetype": "text/x-python",
   "name": "python",
   "nbconvert_exporter": "python",
   "pygments_lexer": "ipython3",
   "version": "3.10.0"
  }
 },
 "nbformat": 4,
 "nbformat_minor": 5
}
