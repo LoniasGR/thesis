{
 "cells": [
  {
   "cell_type": "code",
   "execution_count": 1,
   "id": "b038533d-7a29-4216-9631-19a1b6d66e39",
   "metadata": {},
   "outputs": [],
   "source": [
    "import vowpalwabbit"
   ]
  },
  {
   "cell_type": "code",
   "execution_count": 2,
   "id": "5b106ad0",
   "metadata": {},
   "outputs": [],
   "source": [
    "vw_train = vowpalwabbit.Workspace(enable_logging=True, cb_explore_adf=True, cb_type=\"ips\", d=\"train.dat\")\n",
    "vw_train.finish()\n",
    "vw_train.save(\"candidate_model.vw\")"
   ]
  },
  {
   "cell_type": "code",
   "execution_count": 3,
   "id": "db6d4d5a",
   "metadata": {},
   "outputs": [
    {
     "data": {
      "text/plain": [
       "['using no cache',\n",
       " 'Reading datafile = train.dat',\n",
       " 'num sources = 1',\n",
       " 'Num weight bits = 18',\n",
       " 'learning rate = 0.5',\n",
       " 'initial_t = 0',\n",
       " 'power_t = 0.5',\n",
       " 'cb_type = ips',\n",
       " 'Enabled reductions: gd, scorer-identity, csoaa_ldf-rank, cb_adf, cb_explore_adf_greedy, shared_feature_merger',\n",
       " 'Input label = cb',\n",
       " 'Output pred = action_probs',\n",
       " 'average  since         example        example        current        current  current',\n",
       " 'loss     last          counter         weight          label        predict features',\n",
       " '1.090909 1.090909            1            1.0      0:1:0.083         0:0.09       11',\n",
       " '1.090909 1.090909            2            2.0      0:1:0.083         0:0.09       22',\n",
       " '0.795455 0.500000            4            4.0      0:1:0.083         0:0.08       12',\n",
       " '0.522727 0.250000            8            8.0      0:0:0.083         0:0.09       33',\n",
       " '0.741478 0.960228           16           16.0      0:1:0.083         0:0.17       36',\n",
       " '0.655587 0.569697           32           32.0      0:1:0.083          0:0.1       20',\n",
       " '0.650805 0.646023           64           64.0      0:0:0.083         0:0.25       48',\n",
       " '0.924023 1.197241          128          128.0      0:0:0.083         0:0.09       22',\n",
       " '0.730581 0.537138          256          256.0      0:1:0.083         0:0.09       22',\n",
       " '0.650902 0.571222          512          512.0      0:0:0.083         0:0.08       12',\n",
       " '',\n",
       " 'finished run',\n",
       " 'number of examples = 746',\n",
       " 'weighted example sum = 746.000000',\n",
       " 'weighted label sum = 0.000000',\n",
       " 'average loss = 0.960222',\n",
       " 'total feature number = 20002',\n",
       " '']"
      ]
     },
     "execution_count": 3,
     "metadata": {},
     "output_type": "execute_result"
    }
   ],
   "source": [
    "vw_train.get_log()"
   ]
  },
  {
   "cell_type": "code",
   "execution_count": 4,
   "id": "477ec614",
   "metadata": {},
   "outputs": [
    {
     "data": {
      "text/plain": [
       "['using no cache',\n",
       " 'Reading datafile = test.dat',\n",
       " 'num sources = 1',\n",
       " 'Num weight bits = 18',\n",
       " 'learning rate = 0.5',\n",
       " 'initial_t = 746',\n",
       " 'power_t = 0.5',\n",
       " 'cb_type = ips',\n",
       " 'Enabled reductions: gd, scorer-identity, csoaa_ldf-rank, cb_adf, cb_explore_adf_greedy, shared_feature_merger',\n",
       " 'Input label = cb',\n",
       " 'Output pred = action_probs',\n",
       " 'average  since         example        example        current        current  current',\n",
       " 'loss     last          counter         weight          label        predict features',\n",
       " 'n.a.     n.a.                1            1.0        unknown         0:0.33        3',\n",
       " '1.090909 1.090909            2            2.0      0:1:0.083         0:0.09       44',\n",
       " '0.727273 0.545455            4            4.0      0:1:0.083         0:0.09       11',\n",
       " '0.638961 0.572727            8            8.0      0:0:0.083         0:0.11       27',\n",
       " '0.868023 1.068453           16           16.0      0:1:0.083         0:0.17       48',\n",
       " '1.018838 1.160228           32           32.0      0:1:0.083          0:0.1       30',\n",
       " '0.878149 0.741856           64           64.0      0:0:0.083          0:0.1       30',\n",
       " '0.710444 0.545360          128          128.0      0:0:0.083         0:0.09       11',\n",
       " '0.610736 0.511807          256          256.0      0:1:0.083         0:0.12       32',\n",
       " '',\n",
       " 'finished run',\n",
       " 'number of examples = 298',\n",
       " 'weighted example sum = 298.000000',\n",
       " 'weighted label sum = 0.000000',\n",
       " 'average loss = 0.585524',\n",
       " 'total feature number = 7104',\n",
       " '']"
      ]
     },
     "execution_count": 4,
     "metadata": {},
     "output_type": "execute_result"
    }
   ],
   "source": [
    "vw_test = vowpalwabbit.Workspace(enable_logging=True, i=\"candidate_model.vw\", cb_type=\"ips\", d=\"test.dat\")\n",
    "vw_test.finish()\n",
    "vw_test.get_log()"
   ]
  },
  {
   "cell_type": "code",
   "execution_count": 5,
   "id": "0b0c9ec5",
   "metadata": {},
   "outputs": [],
   "source": [
    "vw_play = vowpalwabbit.Workspace(enable_logging=True, i=\"candidate_model.vw\", cb_type=\"ips\")"
   ]
  },
  {
   "cell_type": "code",
   "execution_count": 6,
   "id": "f0903a20",
   "metadata": {},
   "outputs": [
    {
     "data": {
      "text/plain": [
       "[1.0]"
      ]
     },
     "execution_count": 6,
     "metadata": {},
     "output_type": "execute_result"
    }
   ],
   "source": [
    "vw_play.predict('| pharma_search covid_stats')"
   ]
  },
  {
   "cell_type": "markdown",
   "id": "055795ec",
   "metadata": {},
   "source": [
    "Look at this: https://stackoverflow.com/questions/66996884/confusion-with-vowpal-wabbit-contextual-bandit-training-data-formatting"
   ]
  },
  {
   "cell_type": "markdown",
   "id": "59851f01",
   "metadata": {},
   "source": [
    "https://stackoverflow.com/questions/28640837/vowpal-wabbit-how-to-represent-categorical-features/28643968#28643968"
   ]
  }
 ],
 "metadata": {
  "kernelspec": {
   "display_name": "Python 3.10.4 ('smart_suggest')",
   "language": "python",
   "name": "python3"
  },
  "language_info": {
   "codemirror_mode": {
    "name": "ipython",
    "version": 3
   },
   "file_extension": ".py",
   "mimetype": "text/x-python",
   "name": "python",
   "nbconvert_exporter": "python",
   "pygments_lexer": "ipython3",
   "version": "3.10.4"
  },
  "vscode": {
   "interpreter": {
    "hash": "eb4a0ff1bf1674ebf25d9c3bb761156aaac09723437c8f08dce11d28e41a6657"
   }
  }
 },
 "nbformat": 4,
 "nbformat_minor": 5
}
