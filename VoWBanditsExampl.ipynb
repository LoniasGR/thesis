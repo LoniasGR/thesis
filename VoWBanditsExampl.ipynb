{
 "cells": [
  {
   "cell_type": "code",
   "execution_count": null,
   "id": "dc897396-1e2d-481b-b95d-521c5fee69ef",
   "metadata": {},
   "outputs": [
    {
     "name": "stderr",
     "output_type": "stream",
     "text": [
      "Matplotlib is building the font cache; this may take a moment.\n"
     ]
    }
   ],
   "source": [
    "import itertools\n",
    "import pandas as pd\n",
    "import vowpalwabbit\n",
    "import random\n",
    "import matplotlib.pyplot as plt"
   ]
  },
  {
   "cell_type": "code",
   "execution_count": null,
   "id": "3491fff9-1726-4396-9196-ed652d1e705d",
   "metadata": {},
   "outputs": [],
   "source": [
    "# VW tries to minimize loss/cost, therefore we will pass cost as -reward\n",
    "USER_LIKED_ARTICLE = -1.0\n",
    "USER_DISLIKED_ARTICLE = 0.0"
   ]
  },
  {
   "cell_type": "code",
   "execution_count": null,
   "id": "da9a37cc-5468-40c3-8f13-ba428346c0da",
   "metadata": {},
   "outputs": [],
   "source": [
    "def get_cost(context, action):\n",
    "    if context[\"user\"] == \"Tom\":\n",
    "        if context[\"time_of_day\"] == \"morning\" and action == \"politics\":\n",
    "            return USER_LIKED_ARTICLE\n",
    "        elif context[\"time_of_day\"] == \"afternoon\" and action == \"music\":\n",
    "            return USER_LIKED_ARTICLE\n",
    "        else:\n",
    "            return USER_DISLIKED_ARTICLE\n",
    "    elif context[\"user\"] == \"Anna\":\n",
    "        if context[\"time_of_day\"] == \"morning\" and action == \"sports\":\n",
    "            return USER_LIKED_ARTICLE\n",
    "        elif context[\"time_of_day\"] == \"afternoon\" and action == \"politics\":\n",
    "            return USER_LIKED_ARTICLE\n",
    "        else:\n",
    "            return USER_DISLIKED_ARTICLE"
   ]
  },
  {
   "cell_type": "code",
   "execution_count": null,
   "id": "5e4f5f28-4e5d-4dcf-899e-87e28678b110",
   "metadata": {},
   "outputs": [],
   "source": [
    "# This function modifies (context, action, cost, probability) to VW friendly format\n",
    "def to_vw_example_format(context, actions, cb_label=None):\n",
    "    if cb_label is not None:\n",
    "        chosen_action, cost, prob = cb_label\n",
    "    example_string = \"\"\n",
    "    example_string += \"shared |User user={} time_of_day={}\\n\".format(\n",
    "        context[\"user\"], context[\"time_of_day\"]\n",
    "    )\n",
    "    for action in actions:\n",
    "        if cb_label is not None and action == chosen_action:\n",
    "            example_string += \"0:{}:{} \".format(cost, prob)\n",
    "        example_string += \"|Action article={} \\n\".format(action)\n",
    "    # Strip the last newline\n",
    "    return example_string[:-1]"
   ]
  },
  {
   "cell_type": "code",
   "execution_count": null,
   "id": "866fcb38-85a3-4501-a6c2-72cdeff77253",
   "metadata": {},
   "outputs": [
    {
     "name": "stdout",
     "output_type": "stream",
     "text": [
      "shared |User user=Tom time_of_day=morning\n",
      "|Action article=politics \n",
      "|Action article=sports \n",
      "|Action article=music \n",
      "|Action article=food \n"
     ]
    }
   ],
   "source": [
    "context = {\"user\": \"Tom\", \"time_of_day\": \"morning\"}\n",
    "actions = [\"politics\", \"sports\", \"music\", \"food\"]\n",
    "\n",
    "print(to_vw_example_format(context, actions))"
   ]
  },
  {
   "cell_type": "code",
   "execution_count": null,
   "id": "608e4de7-2379-4944-8258-2428ec71283c",
   "metadata": {},
   "outputs": [],
   "source": [
    "def sample_custom_pmf(pmf):\n",
    "    total = sum(pmf)\n",
    "    scale = 1 / total\n",
    "    pmf = [x * scale for x in pmf]\n",
    "    draw = random.random()\n",
    "    sum_prob = 0.0\n",
    "    for index, prob in enumerate(pmf):\n",
    "        sum_prob += prob\n",
    "        if sum_prob > draw:\n",
    "            return index, prob"
   ]
  },
  {
   "cell_type": "code",
   "execution_count": null,
   "id": "f300d19c-603e-4bfa-abe7-e959b49894fd",
   "metadata": {},
   "outputs": [],
   "source": [
    "def get_action(vw, context, actions):\n",
    "    vw_text_example = to_vw_example_format(context, actions)\n",
    "    pmf = vw.predict(vw_text_example)\n",
    "    chosen_action_index, prob = sample_custom_pmf(pmf)\n",
    "    return actions[chosen_action_index], prob"
   ]
  },
  {
   "cell_type": "code",
   "execution_count": null,
   "id": "4093ee8d-c279-4778-812c-b1630817664d",
   "metadata": {},
   "outputs": [
    {
     "data": {
      "text/html": [
       "<div>\n",
       "<style scoped>\n",
       "    .dataframe tbody tr th:only-of-type {\n",
       "        vertical-align: middle;\n",
       "    }\n",
       "\n",
       "    .dataframe tbody tr th {\n",
       "        vertical-align: top;\n",
       "    }\n",
       "\n",
       "    .dataframe thead th {\n",
       "        text-align: right;\n",
       "    }\n",
       "</style>\n",
       "<table border=\"1\" class=\"dataframe\">\n",
       "  <thead>\n",
       "    <tr style=\"text-align: right;\">\n",
       "      <th></th>\n",
       "      <th>actions</th>\n",
       "      <th>camping</th>\n",
       "      <th>finance</th>\n",
       "      <th>food</th>\n",
       "      <th>health</th>\n",
       "      <th>music</th>\n",
       "      <th>politics</th>\n",
       "      <th>sports</th>\n",
       "    </tr>\n",
       "    <tr>\n",
       "      <th>users</th>\n",
       "      <th>times_of_day</th>\n",
       "      <th></th>\n",
       "      <th></th>\n",
       "      <th></th>\n",
       "      <th></th>\n",
       "      <th></th>\n",
       "      <th></th>\n",
       "      <th></th>\n",
       "    </tr>\n",
       "  </thead>\n",
       "  <tbody>\n",
       "    <tr>\n",
       "      <th rowspan=\"2\" valign=\"top\">Anna</th>\n",
       "      <th>afternoon</th>\n",
       "      <td>0.0</td>\n",
       "      <td>0.0</td>\n",
       "      <td>0.0</td>\n",
       "      <td>0.0</td>\n",
       "      <td>0.0</td>\n",
       "      <td>-1.0</td>\n",
       "      <td>0.0</td>\n",
       "    </tr>\n",
       "    <tr>\n",
       "      <th>morning</th>\n",
       "      <td>0.0</td>\n",
       "      <td>0.0</td>\n",
       "      <td>0.0</td>\n",
       "      <td>0.0</td>\n",
       "      <td>0.0</td>\n",
       "      <td>0.0</td>\n",
       "      <td>-1.0</td>\n",
       "    </tr>\n",
       "    <tr>\n",
       "      <th rowspan=\"2\" valign=\"top\">Tom</th>\n",
       "      <th>afternoon</th>\n",
       "      <td>0.0</td>\n",
       "      <td>0.0</td>\n",
       "      <td>0.0</td>\n",
       "      <td>0.0</td>\n",
       "      <td>-1.0</td>\n",
       "      <td>0.0</td>\n",
       "      <td>0.0</td>\n",
       "    </tr>\n",
       "    <tr>\n",
       "      <th>morning</th>\n",
       "      <td>0.0</td>\n",
       "      <td>0.0</td>\n",
       "      <td>0.0</td>\n",
       "      <td>0.0</td>\n",
       "      <td>0.0</td>\n",
       "      <td>-1.0</td>\n",
       "      <td>0.0</td>\n",
       "    </tr>\n",
       "  </tbody>\n",
       "</table>\n",
       "</div>"
      ],
      "text/plain": [
       "actions             camping  finance  food  health  music  politics  sports\n",
       "users times_of_day                                                         \n",
       "Anna  afternoon         0.0      0.0   0.0     0.0    0.0      -1.0     0.0\n",
       "      morning           0.0      0.0   0.0     0.0    0.0       0.0    -1.0\n",
       "Tom   afternoon         0.0      0.0   0.0     0.0   -1.0       0.0     0.0\n",
       "      morning           0.0      0.0   0.0     0.0    0.0      -1.0     0.0"
      ]
     },
     "execution_count": 32,
     "metadata": {},
     "output_type": "execute_result"
    }
   ],
   "source": [
    "users = [\"Tom\", \"Anna\"]\n",
    "times_of_day = [\"morning\", \"afternoon\"]\n",
    "actions = [\"politics\", \"sports\", \"music\", \"food\", \"finance\", \"health\", \"camping\"]\n",
    "\n",
    "\n",
    "def choose_user(users):\n",
    "    return random.choice(users)\n",
    "\n",
    "\n",
    "def choose_time_of_day(times_of_day):\n",
    "    return random.choice(times_of_day)\n",
    "\n",
    "\n",
    "# display preference matrix\n",
    "def get_preference_matrix(cost_fun):\n",
    "    def expand_grid(data_dict):\n",
    "        rows = itertools.product(*data_dict.values())\n",
    "        return pd.DataFrame.from_records(rows, columns=data_dict.keys())\n",
    "\n",
    "    df = expand_grid({\"users\": users, \"times_of_day\": times_of_day, \"actions\": actions})\n",
    "    df[\"cost\"] = df.apply(\n",
    "        lambda r: cost_fun({\"user\": r[0], \"time_of_day\": r[1]}, r[2]), axis=1\n",
    "    )\n",
    "\n",
    "    return df.pivot_table(\n",
    "        index=[\"users\", \"times_of_day\"], columns=\"actions\", values=\"cost\"\n",
    "    )\n",
    "\n",
    "\n",
    "get_preference_matrix(get_cost)"
   ]
  },
  {
   "cell_type": "code",
   "execution_count": null,
   "id": "4d988eb9-aca9-4522-931f-cf5da96d7527",
   "metadata": {},
   "outputs": [],
   "source": [
    "def run_simulation(\n",
    "    vw, num_iterations, users, times_of_day, actions, cost_function, do_learn=True\n",
    "):\n",
    "    cost_sum = 0.0\n",
    "    ctr = []\n",
    "\n",
    "    for i in range(1, num_iterations + 1):\n",
    "        # 1. In each simulation choose a user\n",
    "        user = choose_user(users)\n",
    "        # 2. Choose time of day for a given user\n",
    "        time_of_day = choose_time_of_day(times_of_day)\n",
    "        print(\"---------------------------------\")\n",
    "\n",
    "        # 3. Pass context to vw to get an action\n",
    "        context = {\"user\": user, \"time_of_day\": time_of_day}\n",
    "        action, prob = get_action(vw, context, actions)\n",
    "        \n",
    "        print(f\"Context: {context}\")\n",
    "        print(f\"Action: {action}, Probability: {prob}\")\n",
    "        \n",
    "        # 4. Get cost of the action we chose\n",
    "        cost = cost_function(context, action)\n",
    "        cost_sum += cost\n",
    "\n",
    "        print(f\"Cost: {cost}\")\n",
    "        if do_learn:\n",
    "            # 5. Inform VW of what happened so we can learn from it\n",
    "            vw_format = vw.parse(\n",
    "                to_vw_example_format(context, actions, (action, cost, prob)),\n",
    "                vowpalwabbit.LabelType.CONTEXTUAL_BANDIT,\n",
    "            )\n",
    "            \n",
    "            print(to_vw_example_format(context, actions, (action, cost, prob)))\n",
    "            # 6. Learn\n",
    "            vw.learn(vw_format)\n",
    "\n",
    "        # We negate this so that on the plot instead of minimizing cost, we are maximizing reward\n",
    "        ctr.append(-1 * cost_sum / i)\n",
    "\n",
    "    return ctr"
   ]
  },
  {
   "cell_type": "code",
   "execution_count": null,
   "id": "7ce853e2-94d1-4e8c-bfd2-5dce0e3ecf42",
   "metadata": {},
   "outputs": [],
   "source": [
    "def plot_ctr(num_iterations, ctr):\n",
    "    plt.plot(range(1, num_iterations + 1), ctr)\n",
    "    plt.xlabel(\"num_iterations\", fontsize=14)\n",
    "    plt.ylabel(\"ctr\", fontsize=14)\n",
    "    plt.ylim([0, 1])"
   ]
  },
  {
   "cell_type": "code",
   "execution_count": null,
   "id": "92f2b8d3-5b2b-4241-9f0d-e6074f0c7345",
   "metadata": {},
   "outputs": [
    {
     "name": "stdout",
     "output_type": "stream",
     "text": [
      "---------------------------------\n",
      "Context: {'user': 'Anna', 'time_of_day': 'afternoon'}\n",
      "Action: sports, Probability: 0.14285714285714285\n",
      "Cost: 0.0\n",
      "shared |User user=Anna time_of_day=afternoon\n",
      "|Action article=politics \n",
      "0:0.0:0.14285714285714285 |Action article=sports \n",
      "|Action article=music \n",
      "|Action article=food \n",
      "|Action article=finance \n",
      "|Action article=health \n",
      "|Action article=camping \n",
      "---------------------------------\n",
      "Context: {'user': 'Tom', 'time_of_day': 'afternoon'}\n",
      "Action: finance, Probability: 0.14285714285714285\n",
      "Cost: 0.0\n",
      "shared |User user=Tom time_of_day=afternoon\n",
      "|Action article=politics \n",
      "|Action article=sports \n",
      "|Action article=music \n",
      "|Action article=food \n",
      "0:0.0:0.14285714285714285 |Action article=finance \n",
      "|Action article=health \n",
      "|Action article=camping \n",
      "---------------------------------\n",
      "Context: {'user': 'Anna', 'time_of_day': 'morning'}\n",
      "Action: music, Probability: 0.14285714285714285\n",
      "Cost: 0.0\n",
      "shared |User user=Anna time_of_day=morning\n",
      "|Action article=politics \n",
      "|Action article=sports \n",
      "0:0.0:0.14285714285714285 |Action article=music \n",
      "|Action article=food \n",
      "|Action article=finance \n",
      "|Action article=health \n",
      "|Action article=camping \n",
      "---------------------------------\n",
      "Context: {'user': 'Tom', 'time_of_day': 'morning'}\n",
      "Action: camping, Probability: 0.14285714285714285\n",
      "Cost: 0.0\n",
      "shared |User user=Tom time_of_day=morning\n",
      "|Action article=politics \n",
      "|Action article=sports \n",
      "|Action article=music \n",
      "|Action article=food \n",
      "|Action article=finance \n",
      "|Action article=health \n",
      "0:0.0:0.14285714285714285 |Action article=camping \n",
      "---------------------------------\n",
      "Context: {'user': 'Anna', 'time_of_day': 'morning'}\n",
      "Action: health, Probability: 0.14285714285714285\n",
      "Cost: 0.0\n",
      "shared |User user=Anna time_of_day=morning\n",
      "|Action article=politics \n",
      "|Action article=sports \n",
      "|Action article=music \n",
      "|Action article=food \n",
      "|Action article=finance \n",
      "0:0.0:0.14285714285714285 |Action article=health \n",
      "|Action article=camping \n"
     ]
    },
    {
     "data": {
      "image/png": "[encoded data removed]",
      "text/plain": [
       "<Figure size 432x288 with 1 Axes>"
      ]
     },
     "metadata": {
      "needs_background": "light"
     },
     "output_type": "display_data"
    }
   ],
   "source": [
    "# Instantiate learner in VW\n",
    "vw = vowpalwabbit.Workspace(\"--cb_explore_adf -q UA --quiet --epsilon 0.2\")\n",
    "\n",
    "num_iterations = 5\n",
    "ctr = run_simulation(vw, num_iterations, users, times_of_day, actions, get_cost)\n",
    "\n",
    "plot_ctr(num_iterations, ctr)"
   ]
  },
  {
   "cell_type": "code",
   "execution_count": null,
   "id": "ee69a0cb-2405-4c58-a0c2-0daf6bb4d1c6",
   "metadata": {},
   "outputs": [],
   "source": []
  },
  {
   "cell_type": "code",
   "execution_count": null,
   "id": "bd5a8c13-a64c-417f-910c-bafa98ae8baf",
   "metadata": {},
   "outputs": [],
   "source": []
  }
 ],
 "metadata": {
  "kernelspec": {
   "display_name": "rasa",
   "language": "python",
   "name": "rasa"
  },
  "language_info": {
   "codemirror_mode": {
    "name": "ipython",
    "version": 3
   },
   "file_extension": ".py",
   "mimetype": "text/x-python",
   "name": "python",
   "nbconvert_exporter": "python",
   "pygments_lexer": "ipython3",
   "version": "3.7.11"
  }
 },
 "nbformat": 4,
 "nbformat_minor": 5
}
