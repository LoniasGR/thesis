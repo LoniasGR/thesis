{
 "cells": [
  {
   "cell_type": "code",
   "execution_count": 7,
   "id": "3147483e",
   "metadata": {},
   "outputs": [],
   "source": [
    "import vowpalwabbit"
   ]
  },
  {
   "cell_type": "code",
   "execution_count": 8,
   "id": "22224fa7",
   "metadata": {},
   "outputs": [],
   "source": [
    "cb_type = \"dr\""
   ]
  },
  {
   "cell_type": "code",
   "execution_count": 31,
   "id": "5b106ad0",
   "metadata": {},
   "outputs": [
    {
     "data": {
      "text/plain": [
       "['final_regressor = candidate_model.vw',\n",
       " 'using no cache',\n",
       " 'Reading datafile = train.dat',\n",
       " 'num sources = 1',\n",
       " 'Num weight bits = 18',\n",
       " 'learning rate = 0.5',\n",
       " 'initial_t = 0',\n",
       " 'power_t = 0.5',\n",
       " 'cb_type = dr',\n",
       " 'Enabled learners: gd, scorer-identity, csoaa_ldf-rank, cb_adf, cb_explore_adf_greedy, shared_feature_merger',\n",
       " 'Input label = CB',\n",
       " 'Output pred = ACTION_PROBS',\n",
       " 'average  since         example        example        current        current  current',\n",
       " 'loss     last          counter         weight          label        predict features',\n",
       " '-1.09090 -1.09090            1            1.0     0:-1:0.083         0:0.09       11',\n",
       " '-1.09090 -1.09090            2            2.0     0:-1:0.083         0:0.09       22',\n",
       " '-0.81628 -0.54166            4            4.0     0:-1:0.077         0:0.08       12',\n",
       " '-0.54356 -0.27083            8            8.0      0:0:0.083         0:0.09       33',\n",
       " '-0.62429 -0.70501           16           16.0      0:-1:0.14         0:0.17       36',\n",
       " '-0.55463 -0.48497           32           32.0     0:-1:0.091          0:0.1       20',\n",
       " '-0.53860 -0.52258           64           64.0        0:0:0.2         0:0.25       48',\n",
       " '-0.56137 -0.58414          128          128.0      0:0:0.083         0:0.09       22',\n",
       " '-0.53353 -0.50569          256          256.0     0:-1:0.083         0:0.09       22',\n",
       " '-0.51908 -0.50463          512          512.0      0:0:0.077         0:0.08       12',\n",
       " '',\n",
       " 'finished run',\n",
       " 'number of examples = 850',\n",
       " 'weighted example sum = 850.000000',\n",
       " 'weighted label sum = 0.000000',\n",
       " 'average loss = -0.558732',\n",
       " 'total feature number = 22784',\n",
       " '']"
      ]
     },
     "execution_count": 31,
     "metadata": {},
     "output_type": "execute_result"
    }
   ],
   "source": [
    "vw_train = vowpalwabbit.Workspace(cache=False, \n",
    "                                  enable_logging=True,\n",
    "                                  cb_explore_adf=True,\n",
    "                                  epsilon=0.4,\n",
    "                                  cb_type=cb_type,\n",
    "                                  d=\"train.dat\",\n",
    "                                  f=\"candidate_model.vw\")\n",
    "vw_train.finish()\n",
    "vw_train.get_log()"
   ]
  },
  {
   "cell_type": "code",
   "execution_count": 32,
   "id": "477ec614",
   "metadata": {},
   "outputs": [
    {
     "data": {
      "text/plain": [
       "['only testing',\n",
       " 'using no cache',\n",
       " 'Reading datafile = test.dat',\n",
       " 'num sources = 1',\n",
       " 'Num weight bits = 18',\n",
       " 'learning rate = 0.5',\n",
       " 'initial_t = 850',\n",
       " 'power_t = 0.5',\n",
       " 'cb_type = dr',\n",
       " 'Enabled learners: gd, scorer-identity, csoaa_ldf-rank, cb_adf, cb_explore_adf_greedy, shared_feature_merger',\n",
       " 'Input label = CB',\n",
       " 'Output pred = ACTION_PROBS',\n",
       " 'average  since         example        example        current        current  current',\n",
       " 'loss     last          counter         weight          label        predict features',\n",
       " '-1.08333 -1.08333            1            1.0     0:-1:0.077         0:0.08       12',\n",
       " '-0.54166 0.000000            2            2.0      0:0:0.083         0:0.09       11',\n",
       " '-0.27083 0.000000            4            4.0      0:0:0.083         0:0.09       11',\n",
       " '-0.54469 -0.81856            8            8.0     0:-1:0.091          0:0.1       20',\n",
       " '-0.47651 -0.40833           16           16.0     0:-1:0.091          0:0.1       30',\n",
       " '-0.37564 -0.27477           32           32.0     0:-1:0.083         0:0.09       11',\n",
       " '-0.34154 -0.30743           64           64.0      0:0:0.083         0:0.09       11',\n",
       " '-0.43486 -0.52819          128          128.0       0:-1:0.1         0:0.11       27',\n",
       " '',\n",
       " 'finished run',\n",
       " 'number of examples = 193',\n",
       " 'weighted example sum = 193.000000',\n",
       " 'weighted label sum = 0.000000',\n",
       " 'average loss = -0.403641',\n",
       " 'total feature number = 4328',\n",
       " '']"
      ]
     },
     "execution_count": 32,
     "metadata": {},
     "output_type": "execute_result"
    }
   ],
   "source": [
    "vw_test = vowpalwabbit.Workspace(enable_logging=True, \n",
    "                                 i=\"candidate_model.vw\",\n",
    "                                 cb_type=cb_type,\n",
    "                                 t=True,\n",
    "                                 d=\"test.dat\")\n",
    "vw_test.finish()\n",
    "vw_test.get_log()"
   ]
  },
  {
   "cell_type": "code",
   "execution_count": 24,
   "id": "0b0c9ec5",
   "metadata": {},
   "outputs": [],
   "source": [
    "vw_play = vowpalwabbit.Workspace(enable_logging=True, i=\"candidate_model.vw\", cb_type=cb_type)"
   ]
  },
  {
   "cell_type": "code",
   "execution_count": 12,
   "id": "f0903a20",
   "metadata": {},
   "outputs": [
    {
     "data": {
      "text/plain": [
       "[1.0]"
      ]
     },
     "execution_count": 12,
     "metadata": {},
     "output_type": "execute_result"
    }
   ],
   "source": [
    "vw_play.predict('| pharma_search covid_stats')"
   ]
  },
  {
   "attachments": {},
   "cell_type": "markdown",
   "id": "055795ec",
   "metadata": {},
   "source": [
    "Look at this: https://stackoverflow.com/questions/66996884/confusion-with-vowpal-wabbit-contextual-bandit-training-data-formatting"
   ]
  },
  {
   "attachments": {},
   "cell_type": "markdown",
   "id": "59851f01",
   "metadata": {},
   "source": [
    "https://stackoverflow.com/questions/28640837/vowpal-wabbit-how-to-represent-categorical-features/28643968#28643968"
   ]
  }
 ],
 "metadata": {
  "kernelspec": {
   "display_name": "Python 3.10.4 ('smart_suggest')",
   "language": "python",
   "name": "python3"
  },
  "language_info": {
   "codemirror_mode": {
    "name": "ipython",
    "version": 3
   },
   "file_extension": ".py",
   "mimetype": "text/x-python",
   "name": "python",
   "nbconvert_exporter": "python",
   "pygments_lexer": "ipython3",
   "version": "3.10.11"
  },
  "vscode": {
   "interpreter": {
    "hash": "eb4a0ff1bf1674ebf25d9c3bb761156aaac09723437c8f08dce11d28e41a6657"
   }
  }
 },
 "nbformat": 4,
 "nbformat_minor": 5
}
