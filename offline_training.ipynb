{
 "cells": [
  {
   "attachments": {},
   "cell_type": "markdown",
   "id": "75a39c36",
   "metadata": {},
   "source": [
    "# Offline policy training & evaluation\n",
    "\n",
    "Inspiration from [this turorial](https://vowpalwabbit.org/docs/vowpal_wabbit/python/latest/tutorials/off_policy_evaluation.html). We use an **incrementally trained** VW policy with adf-format data.\n"
   ]
  },
  {
   "cell_type": "code",
   "execution_count": 1,
   "id": "3147483e",
   "metadata": {},
   "outputs": [],
   "source": [
    "import os\n",
    "import random\n",
    "import vowpalwabbit"
   ]
  },
  {
   "cell_type": "code",
   "execution_count": 2,
   "id": "22224fa7",
   "metadata": {},
   "outputs": [],
   "source": [
    "if os.path.isfile(\"candidate_model.vw\"):\n",
    "    os.remove(\"candidate_model.vw\")\n",
    "\n",
    "random.seed()"
   ]
  },
  {
   "cell_type": "code",
   "execution_count": 37,
   "id": "33da9200",
   "metadata": {},
   "outputs": [],
   "source": [
    "from operator import le\n",
    "\n",
    "\n",
    "def get_examples(filename):\n",
    "    examples = list()\n",
    "    with open(filename, \"r\") as fin:\n",
    "        example = list()\n",
    "        for line in fin:\n",
    "            if line.startswith(\"shared |\"):\n",
    "                if len(example) > 0:\n",
    "                    examples.append(example)\n",
    "                example = list()\n",
    "                example.append(line.strip(\"\\n\"))\n",
    "            else:\n",
    "                if len(line.strip(\"\\n\")) > 0:\n",
    "                    example.append(line.strip(\"\\n\"))\n",
    "        examples.append(example)\n",
    "    return examples\n",
    "\n",
    "\n",
    "def dialogue_length(line):\n",
    "    return len(line.split(\"|\")[1].strip().split(\" \"))\n",
    "\n",
    "\n",
    "def calculate_dialogue_lengths(examples):\n",
    "    lengths = dict()\n",
    "    for e in examples:\n",
    "        length = dialogue_length(e[0])\n",
    "        if length in lengths:\n",
    "            lengths[length] += 1\n",
    "        else:\n",
    "            lengths[length] = 1\n",
    "    return lengths\n",
    "\n",
    "\n",
    "def get_average(lengths: dict):\n",
    "    sum = 0\n",
    "    count = 0\n",
    "    for k, v in lengths.items():\n",
    "        sum += k * v\n",
    "        count += v\n",
    "    return sum / count, count\n",
    "\n",
    "\n",
    "def sample_custom_pmf(pmf):\n",
    "    total = sum(pmf)\n",
    "    scale = 1 / total\n",
    "    pmf = [x * scale for x in pmf]\n",
    "    draw = random.random()\n",
    "    sum_prob = 0.0\n",
    "    for index, prob in enumerate(pmf):\n",
    "        sum_prob += prob\n",
    "        if sum_prob > draw:\n",
    "            return index, prob"
   ]
  },
  {
   "cell_type": "code",
   "execution_count": 38,
   "id": "0c7b1f44",
   "metadata": {},
   "outputs": [],
   "source": [
    "examples_new = get_examples(\"applications/mock-dialogues-service/new_data.dat\")\n",
    "examples_old = get_examples(\"data/data.dat\")\n",
    "\n",
    "random.shuffle(examples_old)\n",
    "random.shuffle(examples_new)\n",
    "\n",
    "data = examples_old + examples_new\n",
    "random.shuffle(data)\n",
    "\n",
    "# data_train = data[: round(0.8 * len(data))]\n",
    "# data_validate = data[round(0.8 * len(data)) :]\n",
    "data_train = examples_old\n",
    "data_validate = examples_new"
   ]
  },
  {
   "cell_type": "code",
   "execution_count": 49,
   "id": "9f747899",
   "metadata": {},
   "outputs": [
    {
     "data": {
      "image/png": "[encoded data removed]",
      "text/plain": [
       "<Figure size 1000x500 with 2 Axes>"
      ]
     },
     "metadata": {},
     "output_type": "display_data"
    }
   ],
   "source": [
    "import matplotlib.pyplot as plt\n",
    "\n",
    "old = calculate_dialogue_lengths(examples_old)\n",
    "old_average, old_count = get_average(old)\n",
    "new = calculate_dialogue_lengths(examples_new)\n",
    "new_average, new_count = get_average(new)\n",
    "\n",
    "fig, (ax1, ax2) = plt.subplots(\n",
    "    1,\n",
    "    2,\n",
    "    sharey=True,\n",
    "    sharex=True,\n",
    "    figsize=(10, 5),\n",
    ")\n",
    "fig.suptitle(\"Comparison of dialogue lengths\")\n",
    "\n",
    "\n",
    "ax1.bar(\n",
    "    list(old.keys()),\n",
    "    old.values(),\n",
    "    color=\"g\",\n",
    ")\n",
    "ax1.set(xlabel=\"Dialogue length\")\n",
    "ax1.set_title(f\"Old data, avg. len: {old_average:,.2f}, total: {old_count} \")\n",
    "ax2.bar(list(new.keys()), new.values(), color=\"g\")\n",
    "ax2.set_title(f\"New data, avg. len: {new_average:,.2f}, total: {new_count}\")\n",
    "ax2.set(xlabel=\"Dialogue length\")\n",
    "\n",
    "plt.show()"
   ]
  },
  {
   "attachments": {},
   "cell_type": "markdown",
   "id": "e7121179",
   "metadata": {},
   "source": [
    "Train the model.\n"
   ]
  },
  {
   "cell_type": "code",
   "execution_count": 155,
   "id": "5b106ad0",
   "metadata": {},
   "outputs": [
    {
     "name": "stderr",
     "output_type": "stream",
     "text": [
      "final_regressor = candidate_model.vw\n",
      "using no cache\n",
      "Reading datafile = none\n",
      "num sources = 0\n",
      "Num weight bits = 18\n",
      "learning rate = 0.5\n",
      "initial_t = 0\n",
      "power_t = 0.5\n",
      "cb_type = ips\n",
      "Enabled learners: gd, scorer-identity, csoaa_ldf-rank, cb_adf, cb_explore_adf_greedy, shared_feature_merger\n",
      "Input label = CB\n",
      "Output pred = ACTION_PROBS\n",
      "average  since         example        example        current        current  current\n",
      "loss     last          counter         weight          label        predict features\n"
     ]
    }
   ],
   "source": [
    "cb_type = \"ips\"\n",
    "\n",
    "vw_train = vowpalwabbit.Workspace(\n",
    "    cb_explore_adf=True,\n",
    "    cb_type=cb_type,\n",
    "    f=\"candidate_model.vw\",\n",
    ")"
   ]
  },
  {
   "cell_type": "code",
   "execution_count": 156,
   "id": "c4f05531",
   "metadata": {},
   "outputs": [
    {
     "name": "stderr",
     "output_type": "stream",
     "text": [
      "1.100000 1.100000            1            1.0      0:1:0.091          0:0.1       50\n",
      "0.575000 0.050000            2            2.0       0:1:0.25         1:0.96       60\n",
      "0.287500 0.000000            4            4.0       0:0:0.17         3:0.96       50\n",
      "0.164388 0.041275            8            8.0      0:1:0.083         2:0.95       33\n",
      "0.103161 0.041935           16           16.0      0:0:0.077         2:0.95       36\n",
      "0.276898 0.450635           32           32.0       0:1:0.11         2:0.96       64\n",
      "0.393711 0.510524           64           64.0      0:1:0.083         2:0.95       33\n",
      "0.245824 0.097936          128          128.0      0:0:0.083         2:0.95       44\n",
      "0.424883 0.603943          256          256.0       0:0:0.11         3:0.96       72\n",
      "0.376559 0.328234          512          512.0        0:1:0.1         4:0.96       81\n",
      "0.318156 0.259754         1024         1024.0       0:0:0.14         3:0.96       48\n"
     ]
    }
   ],
   "source": [
    "for i in range(len(data_train)):\n",
    "    vw_format = vw_train.parse(data_train[i])\n",
    "    vw_train.learn(vw_format)\n",
    "    vw_train.finish_example(vw_format)"
   ]
  },
  {
   "cell_type": "code",
   "execution_count": 157,
   "id": "baad21ac",
   "metadata": {},
   "outputs": [
    {
     "name": "stderr",
     "output_type": "stream",
     "text": [
      "\n",
      "finished run\n",
      "number of examples = 1043\n",
      "weighted example sum = 1043.000000\n",
      "weighted label sum = 0.000000\n",
      "average loss = 0.315382\n",
      "total feature number = 48366\n"
     ]
    }
   ],
   "source": [
    "vw_train.finish()"
   ]
  },
  {
   "cell_type": "code",
   "execution_count": 158,
   "id": "1e5dc706",
   "metadata": {},
   "outputs": [
    {
     "name": "stderr",
     "output_type": "stream",
     "text": [
      "only testing\n",
      "using no cache\n",
      "Reading datafile = none\n",
      "num sources = 0\n",
      "Num weight bits = 18\n",
      "learning rate = 0.5\n",
      "initial_t = 1043\n",
      "power_t = 0.5\n",
      "cb_type = ips\n",
      "Enabled learners: gd, scorer-identity, csoaa_ldf-rank, cb_adf, cb_explore_adf_greedy, shared_feature_merger\n",
      "Input label = CB\n",
      "Output pred = ACTION_PROBS\n",
      "average  since         example        example        current        current  current\n",
      "loss     last          counter         weight          label        predict features\n",
      "0.000000 0.000000            1            1.0      0:0:0.077         0:0.08       36\n",
      "0.000000 0.000000            2            2.0      0:0:0.077         0:0.08       36\n",
      "0.000000 0.000000            4            4.0      0:0:0.091          0:0.1       70\n",
      "0.413194 0.826389            8            8.0       0:0:0.12         0:0.14       63\n",
      "0.548864 0.684533           16           16.0       0:0:0.12         0:0.14       63\n",
      "0.450337 0.351811           32           32.0       0:0:0.14         0:0.17       72\n",
      "0.534913 0.619490           64           64.0        0:0:0.1         0:0.11       63\n",
      "0.457492 0.380070          128          128.0       0:0:0.11         0:0.12       72\n",
      "0.487333 0.517173          256          256.0       0:0:0.11         0:0.12       72\n",
      "0.515286 0.543239          512          512.0      0:0:0.091          0:0.1       60\n",
      "\n",
      "finished run\n",
      "number of examples = 582\n",
      "weighted example sum = 582.000000\n",
      "weighted label sum = 0.000000\n",
      "average loss = 0.512030\n",
      "total feature number = 33719\n"
     ]
    }
   ],
   "source": [
    "vw_test = vowpalwabbit.Workspace(\n",
    "    cb_explore_adf=True, cb_type=cb_type, i=\"candidate_model.vw\", t=True\n",
    ")\n",
    "\n",
    "for i in range(len(data_validate)):\n",
    "    vw_format = vw_train.parse(data_validate[i])\n",
    "    vw_test.learn(vw_format)\n",
    "    vw_test.finish_example(vw_format)\n",
    "vw_test.finish()"
   ]
  },
  {
   "cell_type": "code",
   "execution_count": 159,
   "id": "f0903a20",
   "metadata": {},
   "outputs": [
    {
     "name": "stdout",
     "output_type": "stream",
     "text": [
      "[0.004545454401522875, 0.004545454401522875, 0.9545454382896423, 0.004545454401522875, 0.004545454401522875, 0.004545454401522875, 0.004545454401522875, 0.004545454401522875, 0.004545454401522875, 0.004545454401522875, 0.004545454401522875]\n",
      "(2, 0.9545454551804471)\n"
     ]
    }
   ],
   "source": [
    "sample = vw_train.predict(\n",
    "    \"\"\"shared | vaccines covid_stats \n",
    "| no_action vaccines covid_stats \n",
    "| icu_stats_form \n",
    "| vaccine_stats_form\n",
    "| pharmacy_form\n",
    "| ill_questionnaire_form\n",
    "| ways_of_protection\n",
    "| symptoms\n",
    "| test_types\n",
    "| test_cost\n",
    "| what_to_do_if_positive\n",
    "| underlying_conditions\"\"\"\n",
    ")\n",
    "\n",
    "print(sample)\n",
    "print(sample_custom_pmf(sample))"
   ]
  },
  {
   "attachments": {},
   "cell_type": "markdown",
   "id": "8e909cf1",
   "metadata": {},
   "source": [
    "Testing\n"
   ]
  },
  {
   "cell_type": "markdown",
   "id": "e0e99420",
   "metadata": {},
   "source": [
    "|                      | 0        | 100      | 200      | 400      | All      |\n",
    "| -------------------- | -------- | -------- | -------- | -------- | -------- |\n",
    "| number of examples   | 1043     | 1143     | 1243     | 1443     | 1625     |\n",
    "| average loss         | 0.330858 | 0.356043 | 0.363716 | 0.374223 | 0.407437 |\n",
    "| total feature number | 48366    | 54194    | 60202    | 71476    | 82085    |\n"
   ]
  },
  {
   "attachments": {},
   "cell_type": "markdown",
   "id": "b42ec823",
   "metadata": {},
   "source": [
    "Useful sources:\n",
    "\n",
    "- https://stackoverflow.com/questions/66996884/confusion-with-vowpal-wabbit-contextual-bandit-training-data-formatting\n",
    "- https://stackoverflow.com/questions/28640837/vowpal-wabbit-how-to-represent-categorical-features/28643968#28643968\n"
   ]
  },
  {
   "cell_type": "code",
   "execution_count": null,
   "id": "818e9b8d",
   "metadata": {},
   "outputs": [],
   "source": []
  },
  {
   "attachments": {},
   "cell_type": "markdown",
   "id": "237d3c83",
   "metadata": {},
   "source": []
  }
 ],
 "metadata": {
  "kernelspec": {
   "display_name": "Python 3.10.4 ('smart_suggest')",
   "language": "python",
   "name": "python3"
  },
  "language_info": {
   "codemirror_mode": {
    "name": "ipython",
    "version": 3
   },
   "file_extension": ".py",
   "mimetype": "text/x-python",
   "name": "python",
   "nbconvert_exporter": "python",
   "pygments_lexer": "ipython3",
   "version": "3.10.13"
  },
  "vscode": {
   "interpreter": {
    "hash": "eb4a0ff1bf1674ebf25d9c3bb761156aaac09723437c8f08dce11d28e41a6657"
   }
  }
 },
 "nbformat": 4,
 "nbformat_minor": 5
}
