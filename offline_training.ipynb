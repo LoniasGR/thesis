{
 "cells": [
  {
   "attachments": {},
   "cell_type": "markdown",
   "id": "75a39c36",
   "metadata": {},
   "source": [
    "# Offline policy training & evaluation\n",
    "\n",
    "\n",
    "Inspiration from [this turorial](https://vowpalwabbit.org/docs/vowpal_wabbit/python/latest/tutorials/off_policy_evaluation.html). We use an **incrementally trained** VW policy with adf-format data. "
   ]
  },
  {
   "cell_type": "code",
   "execution_count": 7,
   "id": "3147483e",
   "metadata": {},
   "outputs": [],
   "source": [
    "import os\n",
    "import random\n",
    "import vowpalwabbit\n"
   ]
  },
  {
   "cell_type": "code",
   "execution_count": 2,
   "id": "22224fa7",
   "metadata": {},
   "outputs": [],
   "source": [
    "cb_type = \"ips\"\n",
    "\n",
    "if os.path.isfile('candidate_model.vw'):\n",
    "    os.remove('candidate_model.vw')\n"
   ]
  },
  {
   "attachments": {},
   "cell_type": "markdown",
   "id": "e7121179",
   "metadata": {},
   "source": [
    "Train the model."
   ]
  },
  {
   "cell_type": "code",
   "execution_count": 3,
   "id": "5b106ad0",
   "metadata": {},
   "outputs": [
    {
     "name": "stderr",
     "output_type": "stream",
     "text": [
      "final_regressor = candidate_model.vw\n",
      "using no cache\n",
      "Reading datafile = data.dat\n",
      "num sources = 1\n",
      "Num weight bits = 18\n",
      "learning rate = 0.5\n",
      "initial_t = 0\n",
      "power_t = 0.5\n",
      "cb_type = ips\n",
      "Enabled learners: gd, scorer-identity, csoaa_ldf-rank, cb_adf, cb_explore_adf_greedy, shared_feature_merger\n",
      "Input label = CB\n",
      "Output pred = ACTION_PROBS\n",
      "average  since         example        example        current        current  current\n",
      "loss     last          counter         weight          label        predict features\n",
      "1.090909 1.090909            1            1.0      0:1:0.083         0:0.09       11\n",
      "1.090909 1.090909            2            2.0      0:1:0.083         0:0.09       22\n",
      "0.816288 0.541667            4            4.0      0:1:0.077         0:0.08       12\n",
      "0.543561 0.270833            8            8.0      0:0:0.083         0:0.09       33\n",
      "0.624290 0.705019           16           16.0       0:1:0.14         0:0.17       36\n",
      "0.554632 0.484975           32           32.0      0:1:0.091          0:0.1       20\n",
      "0.538609 0.522585           64           64.0        0:0:0.2         0:0.25       48\n",
      "0.561377 0.584145          128          128.0      0:0:0.083         0:0.09       22\n",
      "0.533538 0.505699          256          256.0      0:1:0.083         0:0.09       22\n",
      "0.519086 0.504633          512          512.0      0:0:0.077         0:0.08       12\n",
      "0.534516 0.549947         1024         1024.0       0:0:0.11         0:0.12       40\n",
      "\n",
      "finished run\n",
      "number of examples = 1043\n",
      "weighted example sum = 1043.000000\n",
      "weighted label sum = 0.000000\n",
      "average loss = 0.530033\n",
      "total feature number = 27112\n"
     ]
    }
   ],
   "source": [
    "vw_train = vowpalwabbit.Workspace(\n",
    "                                  cb_explore_adf=True,\n",
    "                                  cb_type=cb_type,\n",
    "                                  d=\"data.dat\",\n",
    "                                  f=\"candidate_model.vw\"\n",
    "                                    )\n",
    "vw_train.finish()"
   ]
  },
  {
   "attachments": {},
   "cell_type": "markdown",
   "id": "8e909cf1",
   "metadata": {},
   "source": [
    "Testing"
   ]
  },
  {
   "cell_type": "code",
   "execution_count": 4,
   "id": "0b0c9ec5",
   "metadata": {},
   "outputs": [],
   "source": [
    "vw_play = vowpalwabbit.Workspace(enable_logging=True, i=\"candidate_model.vw\", cb_type=cb_type)"
   ]
  },
  {
   "cell_type": "code",
   "execution_count": 13,
   "id": "f0903a20",
   "metadata": {},
   "outputs": [
    {
     "data": {
      "text/plain": [
       "(1, 0.09090909090909091)"
      ]
     },
     "execution_count": 13,
     "metadata": {},
     "output_type": "execute_result"
    }
   ],
   "source": [
    "def sample_custom_pmf(pmf):\n",
    "    total = sum(pmf)\n",
    "    scale = 1 / total\n",
    "    pmf = [x * scale for x in pmf]\n",
    "    draw = random.random()\n",
    "    sum_prob = 0.0\n",
    "    for index, prob in enumerate(pmf):\n",
    "        sum_prob += prob\n",
    "        if sum_prob > draw:\n",
    "            return index, prob\n",
    "\n",
    "\n",
    "sample = vw_play.predict(\n",
    "'''shared |vaccines covid_stats\n",
    "|no_action\n",
    "|icu_stats_form\n",
    "|vaccine_stats_form\n",
    "|pharmacy_form\n",
    "|ill_questionnaire_form\n",
    "|ways_of_protection\n",
    "|symptoms\n",
    "|test_types\n",
    "|test_cost\n",
    "|what_to_do_if_positive\n",
    "|underlying_conditions''')\n",
    "\n",
    "sample_custom_pmf(sample)"
   ]
  },
  {
   "attachments": {},
   "cell_type": "markdown",
   "id": "b42ec823",
   "metadata": {},
   "source": [
    "Useful sources:\n",
    "* https://stackoverflow.com/questions/66996884/confusion-with-vowpal-wabbit-contextual-bandit-training-data-formatting\n",
    "* https://stackoverflow.com/questions/28640837/vowpal-wabbit-how-to-represent-categorical-features/28643968#28643968"
   ]
  },
  {
   "attachments": {},
   "cell_type": "markdown",
   "id": "237d3c83",
   "metadata": {},
   "source": []
  }
 ],
 "metadata": {
  "kernelspec": {
   "display_name": "Python 3.10.4 ('smart_suggest')",
   "language": "python",
   "name": "python3"
  },
  "language_info": {
   "codemirror_mode": {
    "name": "ipython",
    "version": 3
   },
   "file_extension": ".py",
   "mimetype": "text/x-python",
   "name": "python",
   "nbconvert_exporter": "python",
   "pygments_lexer": "ipython3",
   "version": "3.10.11"
  },
  "vscode": {
   "interpreter": {
    "hash": "eb4a0ff1bf1674ebf25d9c3bb761156aaac09723437c8f08dce11d28e41a6657"
   }
  }
 },
 "nbformat": 4,
 "nbformat_minor": 5
}
